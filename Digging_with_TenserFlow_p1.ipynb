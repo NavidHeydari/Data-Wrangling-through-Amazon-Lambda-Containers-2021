{
  "nbformat": 4,
  "nbformat_minor": 0,
  "metadata": {
    "colab": {
      "provenance": [],
      "authorship_tag": "ABX9TyNtQdJlceqiHQYVTbNBqfJu",
      "include_colab_link": true
    },
    "kernelspec": {
      "name": "python3",
      "display_name": "Python 3"
    },
    "language_info": {
      "name": "python"
    }
  },
  "cells": [
    {
      "cell_type": "markdown",
      "metadata": {
        "id": "view-in-github",
        "colab_type": "text"
      },
      "source": [
        "<a href=\"https://colab.research.google.com/github/NavidHeydari/Data-Wrangling-through-Amazon-Lambda-Containers-2021/blob/main/Digging_with_TenserFlow_p1.ipynb\" target=\"_parent\"><img src=\"https://colab.research.google.com/assets/colab-badge.svg\" alt=\"Open In Colab\"/></a>"
      ]
    },
    {
      "cell_type": "markdown",
      "source": [
        "#Importing the requiered tools"
      ],
      "metadata": {
        "id": "9mfc6SI8WYrY"
      }
    },
    {
      "cell_type": "code",
      "execution_count": 7,
      "metadata": {
        "id": "ysvryyshSbqy"
      },
      "outputs": [],
      "source": [
        "import tensorflow as tf\n",
        "from matplotlib import pyplot as plt\n",
        "import numpy as np\n"
      ]
    },
    {
      "cell_type": "markdown",
      "source": [
        "#loading sample data MNIST\n",
        "## download from MNIST\n",
        "## load the data into dataset object"
      ],
      "metadata": {
        "id": "J-3LL6KTWXeR"
      }
    },
    {
      "cell_type": "code",
      "source": [
        "mnist = tf.keras.datasets.mnist\n",
        "mnistData = mnist.load_data();"
      ],
      "metadata": {
        "id": "-LS-FWElV78h"
      },
      "execution_count": 8,
      "outputs": []
    },
    {
      "cell_type": "markdown",
      "source": [
        "#Spliting test and train datasets"
      ],
      "metadata": {
        "id": "I4KZTGC8WV4L"
      }
    },
    {
      "cell_type": "code",
      "source": [
        "(X_train,y_train),(X_test,y_test) = mnistData"
      ],
      "metadata": {
        "id": "E-Z3NpFgW6OE"
      },
      "execution_count": 9,
      "outputs": []
    },
    {
      "cell_type": "markdown",
      "source": [
        "#PreProcessing Step:\n",
        "##Visualization of the sample data"
      ],
      "metadata": {
        "id": "2qSF8MQeXvs4"
      }
    },
    {
      "cell_type": "code",
      "source": [
        "plt.figure() #defining a figure obj\n",
        "plt.imshow(X_train[4]) #show the 4th object in that collection\n",
        "plt.colorbar() # show the color bars close to the pic\n",
        "plt.show() #paint the pic in the output\n"
      ],
      "metadata": {
        "colab": {
          "base_uri": "https://localhost:8080/",
          "height": 430
        },
        "id": "pfFexu_rXyRO",
        "outputId": "93604106-a8be-4b89-b125-954205d2bdb1"
      },
      "execution_count": 10,
      "outputs": [
        {
          "output_type": "display_data",
          "data": {
            "text/plain": [
              "<Figure size 640x480 with 2 Axes>"
            ],
            "image/png": "[encoded data removed]"
          },
          "metadata": {}
        }
      ]
    },
    {
      "cell_type": "markdown",
      "source": [
        "## Prepare the Data for processing -- Scaling from 256 image into a [0-1 range]"
      ],
      "metadata": {
        "id": "UIDtVl-qYX2f"
      }
    },
    {
      "cell_type": "code",
      "source": [
        "X_train,X_test = X_train/255.0, X_test/255.0"
      ],
      "metadata": {
        "id": "6RpafHvHYeTN"
      },
      "execution_count": 11,
      "outputs": []
    },
    {
      "cell_type": "code",
      "source": [
        "# Creating the model -- using Keras Sequentilal since that's the numerical categorical numbers in the data dataset\n",
        "model = tf.keras.models.Sequential(\n",
        "    []\n",
        ")"
      ],
      "metadata": {
        "id": "czaoz-OEY6YZ"
      },
      "execution_count": null,
      "outputs": []
    }
  ]
}